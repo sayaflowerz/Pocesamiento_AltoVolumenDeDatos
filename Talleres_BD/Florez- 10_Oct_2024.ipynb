{
 "cells": [
  {
   "cell_type": "code",
   "execution_count": 0,
   "metadata": {
    "application/vnd.databricks.v1+cell": {
     "cellMetadata": {
      "byteLimit": 2048000,
      "rowLimit": 10000
     },
     "inputWidgets": {},
     "nuid": "8f23be52-8c19-4e59-84e5-9b7932b48f6a",
     "showTitle": false,
     "title": ""
    }
   },
   "outputs": [
    {
     "data": {
      "application/vnd.databricks.v1+bamboolib_hint": "{\"pd.DataFrames\": [], \"version\": \"0.0.1\"}",
      "text/plain": []
     },
     "metadata": {},
     "output_type": "display_data"
    }
   ],
   "source": [
    "import numpy as np\n",
    "import pandas as pd\n",
    "import matplotlib.pyplot as plt\n",
    "import seaborn as sns\n",
    "import sklearn\n",
    "import random\n",
    "\n",
    "from pyspark import SparkFiles\n",
    "from pyspark.sql import SparkSession\n",
    "from pyspark.ml import Pipeline\n",
    "from pyspark.sql import SQLContext\n",
    "from pyspark.sql.session import SparkSession\n",
    "from pyspark.sql.types import IntegerType, FloatType, DoubleType, StringType\n",
    "from pyspark.sql.functions import mean, col, split, when, isnan, count, udf, lit\n",
    "from pyspark.ml.feature import StringIndexer, VectorAssembler\n"
   ]
  },
  {
   "cell_type": "code",
   "execution_count": 0,
   "metadata": {
    "application/vnd.databricks.v1+cell": {
     "cellMetadata": {
      "byteLimit": 2048000,
      "rowLimit": 10000
     },
     "inputWidgets": {},
     "nuid": "a50ecfa2-b2a4-4dd5-881e-ea205ee216e2",
     "showTitle": false,
     "title": ""
    }
   },
   "outputs": [
    {
     "data": {
      "text/plain": [
       "\u001b[0;31m---------------------------------------------------------------------------\u001b[0m\n",
       "\u001b[0;31mNameError\u001b[0m                                 Traceback (most recent call last)\n",
       "File \u001b[0;32m<command-511476140813754>:1\u001b[0m\n",
       "\u001b[0;32m----> 1\u001b[0m spark \u001b[38;5;241m=\u001b[39m \u001b[43mSpark\u001b[49m\u001b[38;5;241m.\u001b[39mSession\u001b[38;5;241m.\u001b[39mbuilder\u001b[38;5;241m.\u001b[39mappName(\u001b[38;5;124m'\u001b[39m\u001b[38;5;124mEnfermedadCardiaca\u001b[39m\u001b[38;5;124m'\u001b[39m)\u001b[38;5;241m.\u001b[39mgetOrCreate()\n",
       "\n",
       "\u001b[0;31mNameError\u001b[0m: name 'Spark' is not defined"
      ]
     },
     "metadata": {
      "application/vnd.databricks.v1+output": {
       "arguments": {},
       "data": "\u001b[0;31m---------------------------------------------------------------------------\u001b[0m\n\u001b[0;31mNameError\u001b[0m                                 Traceback (most recent call last)\nFile \u001b[0;32m<command-511476140813754>:1\u001b[0m\n\u001b[0;32m----> 1\u001b[0m spark \u001b[38;5;241m=\u001b[39m \u001b[43mSpark\u001b[49m\u001b[38;5;241m.\u001b[39mSession\u001b[38;5;241m.\u001b[39mbuilder\u001b[38;5;241m.\u001b[39mappName(\u001b[38;5;124m'\u001b[39m\u001b[38;5;124mEnfermedadCardiaca\u001b[39m\u001b[38;5;124m'\u001b[39m)\u001b[38;5;241m.\u001b[39mgetOrCreate()\n\n\u001b[0;31mNameError\u001b[0m: name 'Spark' is not defined",
       "errorSummary": "<span class='ansi-red-fg'>NameError</span>: name 'Spark' is not defined",
       "errorTraceType": "ansi",
       "metadata": {},
       "type": "ipynbError"
      }
     },
     "output_type": "display_data"
    }
   ],
   "source": [
    "spark = Spark.Session.builder.appName('EnfermedadCardiaca').getOrCreate()"
   ]
  },
  {
   "cell_type": "code",
   "execution_count": 0,
   "metadata": {
    "application/vnd.databricks.v1+cell": {
     "cellMetadata": {
      "byteLimit": 2048000,
      "rowLimit": 10000
     },
     "inputWidgets": {},
     "nuid": "5503874b-e833-485f-843a-f26e16c47c85",
     "showTitle": false,
     "title": ""
    }
   },
   "outputs": [],
   "source": [
    "url =\"https://raw.githubusercontent.com/corredor-john/ExploratoryDataAnalisys/main/Varios/stroke_pyspark.csv\"\n",
    "spark.sparkContext.addFile(url)"
   ]
  },
  {
   "cell_type": "code",
   "execution_count": 0,
   "metadata": {
    "application/vnd.databricks.v1+cell": {
     "cellMetadata": {
      "byteLimit": 2048000,
      "rowLimit": 10000
     },
     "inputWidgets": {},
     "nuid": "f12b4eb1-53d5-48b3-855f-6c34736d5bba",
     "showTitle": false,
     "title": ""
    }
   },
   "outputs": [
    {
     "name": "stdout",
     "output_type": "stream",
     "text": [
      "+-----+------+----+------------+-------------+------------+-------------+--------------+-----------------+----+---------------+------+\n",
      "|   id|gender| age|hypertension|heart_disease|ever_married|    work_type|Residence_type|avg_glucose_level| bmi| smoking_status|stroke|\n",
      "+-----+------+----+------------+-------------+------------+-------------+--------------+-----------------+----+---------------+------+\n",
      "| 9046|  Male|67.0|           0|            1|         Yes|      Private|         Urban|           228.69|36.6|formerly smoked|     1|\n",
      "|51676|Female|61.0|           0|            0|         Yes|Self-employed|         Rural|           202.21| N/A|   never smoked|     1|\n",
      "|31112|  Male|80.0|           0|            1|         Yes|      Private|         Rural|           105.92|32.5|   never smoked|     1|\n",
      "|60182|Female|49.0|           0|            0|         Yes|      Private|         Urban|           171.23|34.4|         smokes|     1|\n",
      "| 1665|Female|79.0|           1|            0|         Yes|Self-employed|         Rural|           174.12|  24|   never smoked|     1|\n",
      "|56669|  Male|81.0|           0|            0|         Yes|      Private|         Urban|           186.21|  29|formerly smoked|     1|\n",
      "|53882|  Male|74.0|           1|            1|         Yes|      Private|         Rural|            70.09|27.4|   never smoked|     1|\n",
      "|10434|Female|69.0|           0|            0|          No|      Private|         Urban|            94.39|22.8|   never smoked|     1|\n",
      "|27419|Female|59.0|           0|            0|         Yes|      Private|         Rural|            76.15| N/A|        Unknown|     1|\n",
      "|60491|Female|78.0|           0|            0|         Yes|      Private|         Urban|            58.57|24.2|        Unknown|     1|\n",
      "|12109|Female|81.0|           1|            0|         Yes|      Private|         Rural|            80.43|29.7|   never smoked|     1|\n",
      "|12095|Female|61.0|           0|            1|         Yes|     Govt_job|         Rural|           120.46|36.8|         smokes|     1|\n",
      "|12175|Female|54.0|           0|            0|         Yes|      Private|         Urban|           104.51|27.3|         smokes|     1|\n",
      "| 8213|  Male|78.0|           0|            1|         Yes|      Private|         Urban|           219.84| N/A|        Unknown|     1|\n",
      "| 5317|Female|79.0|           0|            1|         Yes|      Private|         Urban|           214.09|28.2|   never smoked|     1|\n",
      "|58202|Female|50.0|           1|            0|         Yes|Self-employed|         Rural|           167.41|30.9|   never smoked|     1|\n",
      "|56112|  Male|64.0|           0|            1|         Yes|      Private|         Urban|           191.61|37.5|         smokes|     1|\n",
      "|34120|  Male|75.0|           1|            0|         Yes|      Private|         Urban|           221.29|25.8|         smokes|     1|\n",
      "|27458|Female|60.0|           0|            0|          No|      Private|         Urban|            89.22|37.8|   never smoked|     1|\n",
      "|25226|  Male|57.0|           0|            1|          No|     Govt_job|         Urban|           217.08| N/A|        Unknown|     1|\n",
      "+-----+------+----+------------+-------------+------------+-------------+--------------+-----------------+----+---------------+------+\n",
      "only showing top 20 rows\n",
      "\n"
     ]
    }
   ],
   "source": [
    "path = SparkFiles.get(\"stroke_pyspark.csv\")\n",
    "dfStroke = spark.read.csv(\"file://\"+ path, inferSchema = True, header = True, sep = \",\")\n",
    "dfStroke.show()"
   ]
  },
  {
   "cell_type": "code",
   "execution_count": 0,
   "metadata": {
    "application/vnd.databricks.v1+cell": {
     "cellMetadata": {
      "byteLimit": 2048000,
      "rowLimit": 10000
     },
     "inputWidgets": {},
     "nuid": "afa314fa-bebc-4a50-a8a0-1d49937431b4",
     "showTitle": false,
     "title": ""
    }
   },
   "outputs": [
    {
     "name": "stdout",
     "output_type": "stream",
     "text": [
      "Out[5]: ['id',\n",
      " 'Genero',\n",
      " 'Edad',\n",
      " 'Hipertension',\n",
      " 'Enfermedad_Cardiaca',\n",
      " 'Casado',\n",
      " 'Trabajo',\n",
      " 'Residencia',\n",
      " 'Nivel_Prom_Glucosa',\n",
      " 'IMC',\n",
      " 'Fumador',\n",
      " 'P_Cardiaco']"
     ]
    }
   ],
   "source": [
    "nuevasColumnas = ['id', 'Genero', 'Edad', 'Hipertension', 'Enfermedad_Cardiaca', 'Casado', 'Trabajo', 'Residencia', 'Nivel_Prom_Glucosa', 'IMC', 'Fumador', 'P_Cardiaco']\n",
    "df_Stroke1 = dfStroke\n",
    "\n",
    "for antes, despues in zip (df_Stroke1.columns, nuevasColumnas):\n",
    "    df_Stroke1 = df_Stroke1.withColumnRenamed(antes,despues)\n",
    "\n",
    "df_Stroke1.columns"
   ]
  },
  {
   "cell_type": "code",
   "execution_count": 0,
   "metadata": {
    "application/vnd.databricks.v1+cell": {
     "cellMetadata": {
      "byteLimit": 2048000,
      "rowLimit": 10000
     },
     "inputWidgets": {},
     "nuid": "6adc5ad7-ab9e-483e-9d70-b7990027963a",
     "showTitle": false,
     "title": ""
    }
   },
   "outputs": [
    {
     "name": "stdout",
     "output_type": "stream",
     "text": [
      "Out[6]: ['id',\n",
      " 'gender',\n",
      " 'age',\n",
      " 'hypertension',\n",
      " 'heart_disease',\n",
      " 'ever_married',\n",
      " 'work_type',\n",
      " 'Residence_type',\n",
      " 'avg_glucose_level',\n",
      " 'bmi',\n",
      " 'smoking_status',\n",
      " 'stroke']"
     ]
    }
   ],
   "source": [
    "## Inspección del dataset\n",
    "dfStroke.columns"
   ]
  },
  {
   "cell_type": "code",
   "execution_count": 0,
   "metadata": {
    "application/vnd.databricks.v1+cell": {
     "cellMetadata": {
      "byteLimit": 2048000,
      "rowLimit": 10000
     },
     "inputWidgets": {},
     "nuid": "4e567008-40fc-468b-b9f1-ab3b2424fb6a",
     "showTitle": false,
     "title": ""
    }
   },
   "outputs": [
    {
     "name": "stdout",
     "output_type": "stream",
     "text": [
      "root\n",
      " |-- id: integer (nullable = true)\n",
      " |-- Genero: string (nullable = true)\n",
      " |-- Edad: double (nullable = true)\n",
      " |-- Hipertension: integer (nullable = true)\n",
      " |-- Enfermedad_Cardiaca: integer (nullable = true)\n",
      " |-- Casado: string (nullable = true)\n",
      " |-- Trabajo: string (nullable = true)\n",
      " |-- Residencia: string (nullable = true)\n",
      " |-- Nivel_Prom_Glucosa: double (nullable = true)\n",
      " |-- IMC: double (nullable = true)\n",
      " |-- Fumador: string (nullable = true)\n",
      " |-- P_Cardiaco: integer (nullable = true)\n",
      "\n"
     ]
    }
   ],
   "source": [
    "# La variable target P_cardiaca, se presenta de tipo entero\n",
    "# La variable IMC, en sring, toca pasarla a double\n",
    "\n",
    "df_Stroke1 = df_Stroke1.withColumn(\"IMC\", df_Stroke1.IMC.cast(DoubleType()))\n",
    "df_Stroke1 = df_Stroke1.withColumn(\"IMC\", df_Stroke1.IMC.cast(DoubleType()))\n",
    "df_Stroke1.printSchema()\n"
   ]
  },
  {
   "cell_type": "code",
   "execution_count": 0,
   "metadata": {
    "application/vnd.databricks.v1+cell": {
     "cellMetadata": {
      "byteLimit": 2048000,
      "rowLimit": 10000
     },
     "inputWidgets": {},
     "nuid": "e859da90-245c-4bb0-ad1e-2a390f5c3da5",
     "showTitle": false,
     "title": ""
    }
   },
   "outputs": [
    {
     "name": "stdout",
     "output_type": "stream",
     "text": [
      "+-----+------+----+------------+-------------------+------+-------------+----------+------------------+----+---------------+----------+\n",
      "|   id|Genero|Edad|Hipertension|Enfermedad_Cardiaca|Casado|      Trabajo|Residencia|Nivel_Prom_Glucosa| IMC|        Fumador|P_Cardiaco|\n",
      "+-----+------+----+------------+-------------------+------+-------------+----------+------------------+----+---------------+----------+\n",
      "| 9046|  Male|67.0|           0|                  1|   Yes|      Private|     Urban|            228.69|36.6|formerly smoked|         1|\n",
      "|51676|Female|61.0|           0|                  0|   Yes|Self-employed|     Rural|            202.21|null|   never smoked|         1|\n",
      "|31112|  Male|80.0|           0|                  1|   Yes|      Private|     Rural|            105.92|32.5|   never smoked|         1|\n",
      "|60182|Female|49.0|           0|                  0|   Yes|      Private|     Urban|            171.23|34.4|         smokes|         1|\n",
      "| 1665|Female|79.0|           1|                  0|   Yes|Self-employed|     Rural|            174.12|24.0|   never smoked|         1|\n",
      "|56669|  Male|81.0|           0|                  0|   Yes|      Private|     Urban|            186.21|29.0|formerly smoked|         1|\n",
      "|53882|  Male|74.0|           1|                  1|   Yes|      Private|     Rural|             70.09|27.4|   never smoked|         1|\n",
      "|10434|Female|69.0|           0|                  0|    No|      Private|     Urban|             94.39|22.8|   never smoked|         1|\n",
      "|27419|Female|59.0|           0|                  0|   Yes|      Private|     Rural|             76.15|null|        Unknown|         1|\n",
      "|60491|Female|78.0|           0|                  0|   Yes|      Private|     Urban|             58.57|24.2|        Unknown|         1|\n",
      "+-----+------+----+------------+-------------------+------+-------------+----------+------------------+----+---------------+----------+\n",
      "only showing top 10 rows\n",
      "\n"
     ]
    }
   ],
   "source": [
    "#Inspeccion del dataframe\n",
    "df_Stroke1.show(10)"
   ]
  },
  {
   "cell_type": "markdown",
   "metadata": {
    "application/vnd.databricks.v1+cell": {
     "cellMetadata": {
      "byteLimit": 2048000,
      "rowLimit": 10000
     },
     "inputWidgets": {},
     "nuid": "2573edc3-09c4-4f4e-b488-349931d3e947",
     "showTitle": false,
     "title": ""
    }
   },
   "source": [
    "#REVISIÓN DE DATOS NULOS O IMPOSIBLES"
   ]
  },
  {
   "cell_type": "code",
   "execution_count": 0,
   "metadata": {
    "application/vnd.databricks.v1+cell": {
     "cellMetadata": {
      "byteLimit": 2048000,
      "rowLimit": 10000
     },
     "inputWidgets": {},
     "nuid": "207926bf-8931-4b0a-9fdc-e6481ffc036f",
     "showTitle": false,
     "title": ""
    }
   },
   "outputs": [
    {
     "name": "stdout",
     "output_type": "stream",
     "text": [
      "+---+------+----+------------+-------------------+------+-------+----------+------------------+---+-------+----------+\n",
      "| id|Genero|Edad|Hipertension|Enfermedad_Cardiaca|Casado|Trabajo|Residencia|Nivel_Prom_Glucosa|IMC|Fumador|P_Cardiaco|\n",
      "+---+------+----+------------+-------------------+------+-------+----------+------------------+---+-------+----------+\n",
      "|  0|     0|   0|           0|                  0|     0|      0|         0|                 0|201|      0|         0|\n",
      "+---+------+----+------------+-------------------+------+-------+----------+------------------+---+-------+----------+\n",
      "\n"
     ]
    }
   ],
   "source": [
    "df_Stroke1.select([count(when(isnan(c) | col(c).isNull(), c )).alias(c) for c in df_Stroke1.columns]).show()"
   ]
  },
  {
   "cell_type": "markdown",
   "metadata": {
    "application/vnd.databricks.v1+cell": {
     "cellMetadata": {
      "byteLimit": 2048000,
      "rowLimit": 10000
     },
     "inputWidgets": {},
     "nuid": "67c7f1cd-e4d5-4d8b-847f-9105c0b465d3",
     "showTitle": false,
     "title": ""
    }
   },
   "source": [
    "## Se observa que la columna IMC presenta valores nulos (201)\n",
    "    - La idea es segmentar la edad/genero, extraer el promedio IMC y hacer el cambio por Nulos\n",
    "    - Se debe hacer cambio de categorios por genero\n",
    "    - Extraer promedios de IMC por género según rango  de edades\n",
    "    - Sustutuir nulos IMC por promedios según segmentos (edad/genero)\n"
   ]
  },
  {
   "cell_type": "code",
   "execution_count": 0,
   "metadata": {
    "application/vnd.databricks.v1+cell": {
     "cellMetadata": {
      "byteLimit": 2048000,
      "rowLimit": 10000
     },
     "inputWidgets": {},
     "nuid": "f5e9a6db-7381-433b-81b5-30c36bb611a0",
     "showTitle": false,
     "title": ""
    }
   },
   "outputs": [
    {
     "name": "stdout",
     "output_type": "stream",
     "text": [
      "+------+-----+\n",
      "|Genero|count|\n",
      "+------+-----+\n",
      "|Female| 2994|\n",
      "| Other|    1|\n",
      "|  Male| 2115|\n",
      "+------+-----+\n",
      "\n",
      "+-------------+-----+\n",
      "|      Trabajo|count|\n",
      "+-------------+-----+\n",
      "| Never_worked|   22|\n",
      "|Self-employed|  819|\n",
      "|      Private| 2925|\n",
      "|     children|  687|\n",
      "|     Govt_job|  657|\n",
      "+-------------+-----+\n",
      "\n",
      "+----------+-----+\n",
      "|Residencia|count|\n",
      "+----------+-----+\n",
      "|     Urban| 2596|\n",
      "|     Rural| 2514|\n",
      "+----------+-----+\n",
      "\n",
      "+---------------+-----+\n",
      "|        Fumador|count|\n",
      "+---------------+-----+\n",
      "|         smokes|  789|\n",
      "|        Unknown| 1544|\n",
      "|   never smoked| 1892|\n",
      "|formerly smoked|  885|\n",
      "+---------------+-----+\n",
      "\n",
      "+------+-----+\n",
      "|Casado|count|\n",
      "+------+-----+\n",
      "|    No| 1757|\n",
      "|   Yes| 3353|\n",
      "+------+-----+\n",
      "\n"
     ]
    }
   ],
   "source": [
    "df_Stroke1.groupBy(['Genero']).count().show()\n",
    "df_Stroke1.groupBy(['Trabajo']).count().show()\n",
    "df_Stroke1.groupBy(['Residencia']).count().show()\n",
    "df_Stroke1.groupBy(['Fumador']).count().show()\n",
    "df_Stroke1.groupBy(['Casado']).count().show()"
   ]
  },
  {
   "cell_type": "code",
   "execution_count": 0,
   "metadata": {
    "application/vnd.databricks.v1+cell": {
     "cellMetadata": {
      "byteLimit": 2048000,
      "rowLimit": 10000
     },
     "inputWidgets": {},
     "nuid": "86fd71b0-d542-4ad8-8780-cbe388e7262d",
     "showTitle": false,
     "title": ""
    }
   },
   "outputs": [
    {
     "name": "stdout",
     "output_type": "stream",
     "text": [
      "+------+-----+\n",
      "|Genero|count|\n",
      "+------+-----+\n",
      "|Female| 2994|\n",
      "|  Male| 2115|\n",
      "+------+-----+\n",
      "\n"
     ]
    }
   ],
   "source": [
    "##Se descarta el valor \"Other\" de la variable Genero\n",
    "# Dado por ser cantidad NO signficativa\n",
    "df_Stroke2 = df_Stroke1.where(\"Genero <> 'Other'\")\n",
    "\n",
    "#Se verifica \n",
    "df_Stroke2.groupBy(['Genero']).count().show()"
   ]
  },
  {
   "cell_type": "code",
   "execution_count": 0,
   "metadata": {
    "application/vnd.databricks.v1+cell": {
     "cellMetadata": {
      "byteLimit": 2048000,
      "rowLimit": 10000
     },
     "inputWidgets": {},
     "nuid": "15acd7c1-2be9-4b95-8931-ddf3eadf2d69",
     "showTitle": false,
     "title": ""
    }
   },
   "outputs": [
    {
     "name": "stdout",
     "output_type": "stream",
     "text": [
      "+-------+------------------+\n",
      "|summary|              Edad|\n",
      "+-------+------------------+\n",
      "|  count|              5109|\n",
      "|   mean|  43.2299862986886|\n",
      "| stddev|22.613575307650976|\n",
      "|    min|              0.08|\n",
      "|    max|              82.0|\n",
      "+-------+------------------+\n",
      "\n"
     ]
    }
   ],
   "source": [
    "#Revision estadistica de edades \n",
    "df_Stroke2.select(df_Stroke2['Edad']).describe().show()"
   ]
  },
  {
   "cell_type": "code",
   "execution_count": 0,
   "metadata": {
    "application/vnd.databricks.v1+cell": {
     "cellMetadata": {
      "byteLimit": 2048000,
      "rowLimit": 10000
     },
     "inputWidgets": {},
     "nuid": "629f5aa5-fc79-40f8-802f-b7ba341c504b",
     "showTitle": false,
     "title": ""
    }
   },
   "outputs": [
    {
     "name": "stdout",
     "output_type": "stream",
     "text": [
      "IMC Promedio Female 0 a 10 años=  18.688\n"
     ]
    }
   ],
   "source": [
    "#Segmentamos edades de 10, para extraer promedio por genero\n",
    "promedio10F = df_Stroke2.where((col(\"Genero\") == lit(\"Female\")) & (col(\"Edad\") < 10)).select(mean(col(\"IMC\"))).collect()[0][0]\n",
    "print('IMC Promedio Female 0 a 10 años= ', np.round(promedio10F, 3))"
   ]
  },
  {
   "cell_type": "code",
   "execution_count": 0,
   "metadata": {
    "application/vnd.databricks.v1+cell": {
     "cellMetadata": {
      "byteLimit": 2048000,
      "rowLimit": 10000
     },
     "inputWidgets": {},
     "nuid": "51d8d3c9-7042-40ac-a1b9-c64e79e3639d",
     "showTitle": false,
     "title": ""
    }
   },
   "outputs": [
    {
     "data": {
      "text/plain": []
     },
     "metadata": {
      "application/vnd.databricks.v1+output": {
       "arguments": {},
       "data": "",
       "errorSummary": "Command skipped",
       "errorTraceType": "ansi",
       "metadata": {},
       "type": "ipynbError"
      }
     },
     "output_type": "display_data"
    }
   ],
   "source": [
    "#Segmentamos edades de 10, para extraer promedio por genero\n",
    "promedio10F = df_Stroke2.where((col(\"Genero\") == lit(\"Male\")) & (col(\"Edad\") < 10)).select(mean(col(\"IMC\"))).collect()[0][0]\n",
    "print('IMC Promedio Male 0 a 10 años= ', np.round(promedio10F, 3))"
   ]
  },
  {
   "cell_type": "code",
   "execution_count": 0,
   "metadata": {
    "application/vnd.databricks.v1+cell": {
     "cellMetadata": {
      "byteLimit": 2048000,
      "rowLimit": 10000
     },
     "inputWidgets": {},
     "nuid": "54ea6ecd-c5d4-46ed-a607-5d20697a4227",
     "showTitle": false,
     "title": ""
    }
   },
   "outputs": [
    {
     "data": {
      "text/plain": []
     },
     "metadata": {
      "application/vnd.databricks.v1+output": {
       "arguments": {},
       "data": "",
       "errorSummary": "Command skipped",
       "errorTraceType": "ansi",
       "metadata": {},
       "type": "ipynbError"
      }
     },
     "output_type": "display_data"
    }
   ],
   "source": [
    "colN = df_Stroke2.columns\n",
    "print(colN[1], colN[2], colN[9])\n",
    "\n",
    "litN = \"Female\"\n",
    "print(litN)"
   ]
  },
  {
   "cell_type": "code",
   "execution_count": 0,
   "metadata": {
    "application/vnd.databricks.v1+cell": {
     "cellMetadata": {
      "byteLimit": 2048000,
      "rowLimit": 10000
     },
     "inputWidgets": {},
     "nuid": "bdf4b87e-9626-43e8-a2ab-1c4ca072da18",
     "showTitle": false,
     "title": ""
    }
   },
   "outputs": [
    {
     "data": {
      "text/plain": []
     },
     "metadata": {
      "application/vnd.databricks.v1+output": {
       "arguments": {},
       "data": "",
       "errorSummary": "Command skipped",
       "errorTraceType": "ansi",
       "metadata": {},
       "type": "ipynbError"
      }
     },
     "output_type": "display_data"
    }
   ],
   "source": [
    "# Se crea una función para hacer los cambios por segmento por edad y por genero al IMC\n",
    "\n",
    "def promedioEdadGenero(dataframe, columna1, litCategoria, columna2, minValor, maxValor, columna3): \n",
    "    promedio = dataframe.where((col(columna1) == lit(litCategoria)) & (col(columna2) > minValor) & (col(columna2) < maxValor)).select(mean(col(columna3))).collect()[0][0]\n",
    "    print(f'IMC Promedio {litCategoria} de edades {minValor} a {maxValor} =  {np.round(promedio, 3)} \\n')\n",
    "    return promedio\n"
   ]
  },
  {
   "cell_type": "code",
   "execution_count": 0,
   "metadata": {
    "application/vnd.databricks.v1+cell": {
     "cellMetadata": {
      "byteLimit": 2048000,
      "rowLimit": 10000
     },
     "inputWidgets": {},
     "nuid": "6344dfb7-05be-43a3-91f3-3b9ee999047b",
     "showTitle": false,
     "title": ""
    }
   },
   "outputs": [
    {
     "data": {
      "text/plain": []
     },
     "metadata": {
      "application/vnd.databricks.v1+output": {
       "arguments": {},
       "data": "",
       "errorSummary": "Command skipped",
       "errorTraceType": "ansi",
       "metadata": {},
       "type": "ipynbError"
      }
     },
     "output_type": "display_data"
    }
   ],
   "source": [
    "#Se comprueba la funciones con los valores de 0 a 10 para \"Female\"\n",
    "prom10F = promedioEdadGenero(df_Stroke2, colN[1], litN, colN[2], 0, 10, colN[9])\n",
    "print(prom10F)"
   ]
  },
  {
   "cell_type": "code",
   "execution_count": 0,
   "metadata": {
    "application/vnd.databricks.v1+cell": {
     "cellMetadata": {
      "byteLimit": 2048000,
      "rowLimit": 10000
     },
     "inputWidgets": {},
     "nuid": "f8171df0-e3ee-4f78-a083-36ee284bf8c6",
     "showTitle": false,
     "title": ""
    }
   },
   "outputs": [
    {
     "data": {
      "text/plain": []
     },
     "metadata": {
      "application/vnd.databricks.v1+output": {
       "arguments": {},
       "data": "",
       "errorSummary": "Command skipped",
       "errorTraceType": "ansi",
       "metadata": {},
       "type": "ipynbError"
      }
     },
     "output_type": "display_data"
    }
   ],
   "source": [
    "def promedioEdadGenero(dataframe, columna1, litCategoria, columna2, minValor, maxValor, columna3): \n",
    "    promedio = dataframe.where((col(columna1) == lit(litCategoria)) & (col(columna2) > minValor) & (col(columna2) < maxValor)).select(mean(col(columna3))).collect()[0][0]\n",
    "    print(f'IMC Promedio {litCategoria} de edades {minValor} a {maxValor} =  {np.round(promedio, 3)} \\n')\n",
    "    return promedio"
   ]
  },
  {
   "cell_type": "code",
   "execution_count": 0,
   "metadata": {
    "application/vnd.databricks.v1+cell": {
     "cellMetadata": {
      "byteLimit": 2048000,
      "rowLimit": 10000
     },
     "inputWidgets": {},
     "nuid": "02eec4d0-1148-484a-b2d1-8afea8f3015b",
     "showTitle": false,
     "title": ""
    }
   },
   "outputs": [
    {
     "data": {
      "text/plain": []
     },
     "metadata": {
      "application/vnd.databricks.v1+output": {
       "arguments": {},
       "data": "",
       "errorSummary": "Command skipped",
       "errorTraceType": "ansi",
       "metadata": {},
       "type": "ipynbError"
      }
     },
     "output_type": "display_data"
    }
   ],
   "source": [
    "#Se comprueba la funciones con los valores de 10 a 20 para \"Female\"\n",
    "prom10F = promedioEdadGenero(df_Stroke2, colN[1], litN, colN[2], 10, 20, colN[9])\n",
    "print(prom10F)"
   ]
  },
  {
   "cell_type": "code",
   "execution_count": 0,
   "metadata": {
    "application/vnd.databricks.v1+cell": {
     "cellMetadata": {
      "byteLimit": 2048000,
      "rowLimit": 10000
     },
     "inputWidgets": {},
     "nuid": "3bd852f5-6d7b-43b8-8310-3c37c75096cd",
     "showTitle": false,
     "title": ""
    }
   },
   "outputs": [
    {
     "data": {
      "text/plain": []
     },
     "metadata": {
      "application/vnd.databricks.v1+output": {
       "arguments": {},
       "data": "",
       "errorSummary": "Command skipped",
       "errorTraceType": "ansi",
       "metadata": {},
       "type": "ipynbError"
      }
     },
     "output_type": "display_data"
    }
   ],
   "source": [
    "colN = df_Stroke2.columns\n",
    "print(colN[1], colN[2], colN[9])\n",
    "\n",
    "litN = \"Male\"\n",
    "print(litN)"
   ]
  },
  {
   "cell_type": "code",
   "execution_count": 0,
   "metadata": {
    "application/vnd.databricks.v1+cell": {
     "cellMetadata": {
      "byteLimit": 2048000,
      "rowLimit": 10000
     },
     "inputWidgets": {},
     "nuid": "d647e341-0db7-42a5-be9e-66c264e8e9eb",
     "showTitle": false,
     "title": ""
    }
   },
   "outputs": [
    {
     "data": {
      "text/plain": []
     },
     "metadata": {
      "application/vnd.databricks.v1+output": {
       "arguments": {},
       "data": "",
       "errorSummary": "Command skipped",
       "errorTraceType": "ansi",
       "metadata": {},
       "type": "ipynbError"
      }
     },
     "output_type": "display_data"
    }
   ],
   "source": [
    "promedioFemale = []\n",
    "for x in range (9):\n",
    "    promedioFemale.append(promedioEdadGenero(df_Stroke2, colN[1], litN, colN[2], x*10, x*10+10, colN[9]))\n"
   ]
  },
  {
   "cell_type": "code",
   "execution_count": 0,
   "metadata": {
    "application/vnd.databricks.v1+cell": {
     "cellMetadata": {
      "byteLimit": 2048000,
      "rowLimit": 10000
     },
     "inputWidgets": {},
     "nuid": "b2d2f5fb-d383-44fe-af8b-eeae4c6efcda",
     "showTitle": false,
     "title": ""
    }
   },
   "outputs": [
    {
     "data": {
      "text/plain": []
     },
     "metadata": {
      "application/vnd.databricks.v1+output": {
       "arguments": {},
       "data": "",
       "errorSummary": "Command skipped",
       "errorTraceType": "ansi",
       "metadata": {},
       "type": "ipynbError"
      }
     },
     "output_type": "display_data"
    }
   ],
   "source": [
    "## Reemplazar valores nulos por promedio: edad female\n",
    "##columna1= genero, columna2=edad\n",
    "\n",
    "def reempXprom(dataframe, columna1, columna2, categoria, columna3, valor, reemplazo):\n",
    "    dataframe = dataframe.withColumn(columna3, when ((dataframe[columna1]==categoria)  & (dataframe[columna3].isNull() & (dataframe[columna2]< valor)), reemplazo ).\n",
    "    otherwise(dataframe[columna3]))\n",
    "    return dataframe"
   ]
  },
  {
   "cell_type": "code",
   "execution_count": 0,
   "metadata": {
    "application/vnd.databricks.v1+cell": {
     "cellMetadata": {
      "byteLimit": 2048000,
      "rowLimit": 10000
     },
     "inputWidgets": {},
     "nuid": "dc4f14d5-cdb1-4e74-b950-a87144a75471",
     "showTitle": false,
     "title": ""
    }
   },
   "outputs": [
    {
     "data": {
      "text/plain": []
     },
     "metadata": {
      "application/vnd.databricks.v1+output": {
       "arguments": {},
       "data": "",
       "errorSummary": "Command skipped",
       "errorTraceType": "ansi",
       "metadata": {},
       "type": "ipynbError"
      }
     },
     "output_type": "display_data"
    }
   ],
   "source": [
    "dfNtest = reempXprom(df_Stroke2,  colN[1], colN[2], litN, colN[9], 10, promedioFemale[0])"
   ]
  },
  {
   "cell_type": "code",
   "execution_count": 0,
   "metadata": {
    "application/vnd.databricks.v1+cell": {
     "cellMetadata": {
      "byteLimit": 2048000,
      "rowLimit": 10000
     },
     "inputWidgets": {},
     "nuid": "9da4adff-d44e-4af0-920f-4906e093ff15",
     "showTitle": false,
     "title": ""
    }
   },
   "outputs": [
    {
     "data": {
      "text/plain": []
     },
     "metadata": {
      "application/vnd.databricks.v1+output": {
       "arguments": {},
       "data": "",
       "errorSummary": "Command skipped",
       "errorTraceType": "ansi",
       "metadata": {},
       "type": "ipynbError"
      }
     },
     "output_type": "display_data"
    }
   ],
   "source": [
    "for i in range (1,9,1):\n",
    "    x = (i+1)*10\n",
    "    print(x,i)\n",
    "    dataframe3 = reempXprom(df_Stroke2,  colN[1], colN[2], litN, colN[9], x, promedioFemale[i])"
   ]
  },
  {
   "cell_type": "code",
   "execution_count": 0,
   "metadata": {
    "application/vnd.databricks.v1+cell": {
     "cellMetadata": {
      "byteLimit": 2048000,
      "rowLimit": 10000
     },
     "inputWidgets": {},
     "nuid": "78b5d592-66e1-494a-a75c-7c222cf3fd39",
     "showTitle": false,
     "title": ""
    }
   },
   "outputs": [
    {
     "data": {
      "text/plain": []
     },
     "metadata": {
      "application/vnd.databricks.v1+output": {
       "arguments": {},
       "data": "",
       "errorSummary": "Command skipped",
       "errorTraceType": "ansi",
       "metadata": {},
       "type": "ipynbError"
      }
     },
     "output_type": "display_data"
    }
   ],
   "source": [
    "dataframe3."
   ]
  },
  {
   "cell_type": "code",
   "execution_count": 0,
   "metadata": {
    "application/vnd.databricks.v1+cell": {
     "cellMetadata": {
      "byteLimit": 2048000,
      "rowLimit": 10000
     },
     "inputWidgets": {},
     "nuid": "395d498c-2760-4c34-85c7-921f082df154",
     "showTitle": false,
     "title": ""
    }
   },
   "outputs": [
    {
     "data": {
      "text/plain": []
     },
     "metadata": {
      "application/vnd.databricks.v1+output": {
       "arguments": {},
       "data": "",
       "errorSummary": "Command skipped",
       "errorTraceType": "ansi",
       "metadata": {},
       "type": "ipynbError"
      }
     },
     "output_type": "display_data"
    }
   ],
   "source": [
    "colN = df_Stroke2.columns\n",
    "print(colN[1], colN[2], colN[9])\n",
    "\n",
    "litN = \"Male\"\n",
    "print(litN)"
   ]
  },
  {
   "cell_type": "code",
   "execution_count": 0,
   "metadata": {
    "application/vnd.databricks.v1+cell": {
     "cellMetadata": {
      "byteLimit": 2048000,
      "rowLimit": 10000
     },
     "inputWidgets": {},
     "nuid": "e1381be0-00a9-4925-bef2-bbcacd7cbffe",
     "showTitle": false,
     "title": ""
    }
   },
   "outputs": [
    {
     "data": {
      "text/plain": []
     },
     "metadata": {
      "application/vnd.databricks.v1+output": {
       "arguments": {},
       "data": "",
       "errorSummary": "Command skipped",
       "errorTraceType": "ansi",
       "metadata": {},
       "type": "ipynbError"
      }
     },
     "output_type": "display_data"
    }
   ],
   "source": [
    "promedioMale = []\n",
    "for x in range (9):\n",
    "    promedioMale.append(promedioEdadGenero(df_Stroke2, colN[1], litN, colN[2], x*10, x*10+10, colN[9]))"
   ]
  },
  {
   "cell_type": "code",
   "execution_count": 0,
   "metadata": {
    "application/vnd.databricks.v1+cell": {
     "cellMetadata": {
      "byteLimit": 2048000,
      "rowLimit": 10000
     },
     "inputWidgets": {},
     "nuid": "69129f67-c855-4024-8f58-c27736a5bc3b",
     "showTitle": false,
     "title": ""
    }
   },
   "outputs": [
    {
     "data": {
      "text/plain": []
     },
     "metadata": {
      "application/vnd.databricks.v1+output": {
       "arguments": {},
       "data": "",
       "errorSummary": "Command skipped",
       "errorTraceType": "ansi",
       "metadata": {},
       "type": "ipynbError"
      }
     },
     "output_type": "display_data"
    }
   ],
   "source": [
    "for i in range (0,9,1):\n",
    "    x = (i+1)*10\n",
    "    print(x,i)\n",
    "    dataframe3 = reempXprom(df_Stroke2,  colN[1], colN[2], litN, colN[9], x, promedioMale[i])"
   ]
  },
  {
   "cell_type": "code",
   "execution_count": 0,
   "metadata": {
    "application/vnd.databricks.v1+cell": {
     "cellMetadata": {
      "byteLimit": 2048000,
      "rowLimit": 10000
     },
     "inputWidgets": {},
     "nuid": "523ea293-8114-4b6d-b141-9a67e298a8b5",
     "showTitle": false,
     "title": ""
    }
   },
   "outputs": [
    {
     "data": {
      "text/plain": []
     },
     "metadata": {
      "application/vnd.databricks.v1+output": {
       "arguments": {},
       "data": "",
       "errorSummary": "Command skipped",
       "errorTraceType": "ansi",
       "metadata": {},
       "type": "ipynbError"
      }
     },
     "output_type": "display_data"
    }
   ],
   "source": [
    "dataframe3.select([count(when(isnan(c) | col(c).isNull(), c )).alias(c) for c in df_Stroke1.columns]).show()"
   ]
  }
 ],
 "metadata": {
  "application/vnd.databricks.v1+notebook": {
   "dashboards": [],
   "environmentMetadata": null,
   "language": "python",
   "notebookMetadata": {
    "pythonIndentUnit": 4
   },
   "notebookName": "Florez- 10_Oct_2024",
   "widgets": {}
  },
  "language_info": {
   "name": "python"
  }
 },
 "nbformat": 4,
 "nbformat_minor": 0
}
